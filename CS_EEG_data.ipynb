{
 "cells": [
  {
   "cell_type": "code",
   "execution_count": 1,
   "metadata": {},
   "outputs": [],
   "source": [
    "import numpy as np\n",
    "import pickle\n",
    "import pywt"
   ]
  },
  {
   "cell_type": "markdown",
   "metadata": {},
   "source": [
    "## Load Data"
   ]
  },
  {
   "cell_type": "code",
   "execution_count": 2,
   "metadata": {},
   "outputs": [],
   "source": [
    "data = np.zeros([32,40,40,8064])\n",
    "labels = np.zeros([32,40,4])\n",
    "\n",
    "for i in range(1, 33):\n",
    "    if i < 10:\n",
    "        file = \"./data_preprocessed_python/s{0}.dat\".format(\"0\" + str(i))\n",
    "    else:\n",
    "        file = \"./data_preprocessed_python/s{0}.dat\".format(str(i))\n",
    "    with open(file, 'rb') as f: \n",
    "        content = pickle.load(f, encoding= \"latin1\")\n",
    "    data[i-1,:,:,:] = content[\"data\"]\n",
    "    labels[i-1,:,:] = content[\"labels\"]"
   ]
  },
  {
   "cell_type": "code",
   "execution_count": 3,
   "metadata": {},
   "outputs": [
    {
     "data": {
      "text/plain": [
       "(32, 40, 40, 8064)"
      ]
     },
     "execution_count": 3,
     "metadata": {},
     "output_type": "execute_result"
    }
   ],
   "source": [
    "# 32 subjects that watched 40 videos each with 40 sensors (32 EEG + peripherals) for 60s at 128 Hz\n",
    "data.shape"
   ]
  },
  {
   "cell_type": "code",
   "execution_count": 4,
   "metadata": {},
   "outputs": [
    {
     "data": {
      "text/plain": [
       "(32, 40, 4)"
      ]
     },
     "execution_count": 4,
     "metadata": {},
     "output_type": "execute_result"
    }
   ],
   "source": [
    "# 32 subjects that watched 40 videos each that have 4 emotional labels per video\n",
    "labels.shape"
   ]
  },
  {
   "cell_type": "code",
   "execution_count": 7,
   "metadata": {},
   "outputs": [
    {
     "data": {
      "text/plain": [
       "(32, 40, 32, 7680)"
      ]
     },
     "execution_count": 7,
     "metadata": {},
     "output_type": "execute_result"
    }
   ],
   "source": [
    "#segregate into just EEG Data, cut the first 3 seconds that was the baseline (CHECK THIS, waiting on email)\n",
    "eeg_data = data[:,:,:32,128 * 3:]\n",
    "eeg_data.shape"
   ]
  },
  {
   "cell_type": "code",
   "execution_count": 18,
   "metadata": {},
   "outputs": [
    {
     "data": {
      "text/plain": [
       "(32, 40, 32, 10, 768)"
      ]
     },
     "execution_count": 18,
     "metadata": {},
     "output_type": "execute_result"
    }
   ],
   "source": [
    "#split into 6 second intervals. So now 32 individuals who watched 40 videos with 32 EEG sensors and each video is \n",
    "#broken up into 10 6 second recording chunks\n",
    "eeg_data = np.array(np.array_split(eeg_data, 10, axis = 3)).transpose(1,2,3,0,4)\n",
    "eeg_data.shape\n",
    "\n",
    "#split into training and test data (TODO in the future)"
   ]
  },
  {
   "cell_type": "markdown",
   "metadata": {},
   "source": [
    "## Pre-Processing"
   ]
  },
  {
   "cell_type": "code",
   "execution_count": 21,
   "metadata": {},
   "outputs": [],
   "source": [
    "#http://www.eecs.qmul.ac.uk/mmv/datasets/deap/readme.html\n",
    "#Bandpass filtering and downsampling already done for this dataset!"
   ]
  },
  {
   "cell_type": "markdown",
   "metadata": {},
   "source": [
    "## Data Compression"
   ]
  },
  {
   "cell_type": "code",
   "execution_count": null,
   "metadata": {},
   "outputs": [],
   "source": [
    "#dictionary (D) we should be using is inverse db5 WT matrix\n",
    "#seems like we want to use idwt from pywt with 'db5'\n",
    "\n",
    "# y = Phi * D * z\n",
    "# y is compressed data\n",
    "# Phi is sensing matrix \n",
    "# D is inverse db5 WT matrix\n",
    "# z is D_inv * x, where D_inv is the db5 WT matrix and x is the EEG signal. I think. "
   ]
  }
 ],
 "metadata": {
  "kernelspec": {
   "display_name": "Python 3",
   "language": "python",
   "name": "python3"
  },
  "language_info": {
   "codemirror_mode": {
    "name": "ipython",
    "version": 3
   },
   "file_extension": ".py",
   "mimetype": "text/x-python",
   "name": "python",
   "nbconvert_exporter": "python",
   "pygments_lexer": "ipython3",
   "version": "3.7.6"
  }
 },
 "nbformat": 4,
 "nbformat_minor": 4
}
